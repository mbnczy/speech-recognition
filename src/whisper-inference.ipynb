{
 "cells": [
  {
   "cell_type": "code",
   "execution_count": null,
   "id": "669391fb-1ff9-49b6-a2e5-abb80dcad906",
   "metadata": {},
   "outputs": [],
   "source": [
    "%pip uninstall torch torchaudio -y\n",
    "%pip install torch==2.5.0 torchaudio==2.5.0 --index-url https://download.pytorch.org/whl/cu121\n",
    "%pip install 'accelerate>=0.26.0'\n",
    "%pip install librosa soundfile"
   ]
  },
  {
   "cell_type": "code",
   "execution_count": 1,
   "id": "bf8d7196-fe6b-455c-a6d0-98ee792d5822",
   "metadata": {},
   "outputs": [],
   "source": [
    "import os\n",
    "import torch\n",
    "import torchaudio\n",
    "from transformers import AutoProcessor, WhisperForConditionalGeneration\n",
    "from tqdm.notebook import tqdm"
   ]
  },
  {
   "cell_type": "code",
   "execution_count": 2,
   "id": "f98342af-3822-4a5b-a37c-6743c714b3a6",
   "metadata": {},
   "outputs": [
    {
     "name": "stderr",
     "output_type": "stream",
     "text": [
      "Tensor Parallel requires torch.distributed to be initialized first.\n"
     ]
    }
   ],
   "source": [
    "processor = AutoProcessor.from_pretrained(\"openai/whisper-large-v3-turbo\")\n",
    "\n",
    "model = WhisperForConditionalGeneration.from_pretrained(\n",
    "    \"openai/whisper-large-v3-turbo\",\n",
    "    torch_dtype=torch.float16,\n",
    "    device_map=\"auto\",\n",
    "    attn_implementation=\"sdpa\"\n",
    ").to(\"cuda\")"
   ]
  },
  {
   "cell_type": "code",
   "execution_count": 3,
   "id": "7adb0674-7668-4b2d-8266-3b2a3b615072",
   "metadata": {},
   "outputs": [],
   "source": [
    "def mp3_2_waveform(mp3_path, target_sr = 16000):\n",
    "    info = torchaudio.info(mp3_path)\n",
    "    \n",
    "    waveform, sample_rate = torchaudio.load(mp3_path, num_frames=info.num_frames)\n",
    "    duration = waveform.shape[1] / sample_rate\n",
    "\n",
    "    if sample_rate != target_sr: #resample to 16k\n",
    "        resampler = torchaudio.transforms.Resample(orig_freq=sample_rate, new_freq=target_sr)\n",
    "        waveform = resampler(waveform)\n",
    "        sample_rate = target_sr\n",
    "\n",
    "    if waveform.shape[0] > 1: #mono\n",
    "        waveform = torch.mean(waveform, dim=0)\n",
    "\n",
    "    return waveform, sample_rate, duration\n",
    "\n",
    "\n",
    "def inference(model, processor, waveform, sample_rate, batch_duration=30):   \n",
    "    batch_samples = batch_duration * sample_rate\n",
    "    audio_array = waveform.numpy()\n",
    "    total_batches = (len(audio_array) + batch_samples - 1) // batch_samples\n",
    "    \n",
    "    transcription = []\n",
    "    \n",
    "    for i in tqdm(range(0, len(audio_array), batch_samples), total=total_batches, desc=\"Transcribing\"):\n",
    "        batch = audio_array[i:i + batch_samples]\n",
    "    \n",
    "        #if len(batch) < 1000:\n",
    "        #    continue\n",
    "    \n",
    "        inputs = processor(\n",
    "            batch,\n",
    "            sampling_rate=sample_rate,\n",
    "            return_tensors=\"pt\"\n",
    "        ).input_features.to(\"cuda\", dtype=torch.float16)\n",
    "    \n",
    "        ids = model.generate(inputs, cache_implementation=\"static\")\n",
    "        text = processor.batch_decode(ids, skip_special_tokens=True)[0]\n",
    "        transcription.append(text)\n",
    "    \n",
    "    return \"\\n\".join(transcription)\n"
   ]
  },
  {
   "cell_type": "code",
   "execution_count": 4,
   "id": "f885734d-7de5-47ca-bf64-1c98801aeeea",
   "metadata": {},
   "outputs": [
    {
     "data": {
      "application/vnd.jupyter.widget-view+json": {
       "model_id": "353700136b2f4ff3922c49b0e66e354d",
       "version_major": 2,
       "version_minor": 0
      },
      "text/plain": [
       "Processing MP3 files:   0%|          | 0/14 [00:00<?, ?it/s]"
      ]
     },
     "metadata": {},
     "output_type": "display_data"
    },
    {
     "data": {
      "application/vnd.jupyter.widget-view+json": {
       "model_id": "394470e6deac455dab220779f70cb5b4",
       "version_major": 2,
       "version_minor": 0
      },
      "text/plain": [
       "Transcribing:   0%|          | 0/110 [00:00<?, ?it/s]"
      ]
     },
     "metadata": {},
     "output_type": "display_data"
    },
    {
     "name": "stderr",
     "output_type": "stream",
     "text": [
      "Due to a bug fix in https://github.com/huggingface/transformers/pull/28687 transcription using a multilingual Whisper will default to language detection followed by transcription instead of translation to English.This might be a breaking change for your use case. If you want to instead always translate your audio to English, make sure to pass `language='en'`.\n",
      "The attention mask is not set and cannot be inferred from input because pad token is same as eos token. As a consequence, you may observe unexpected behavior. Please pass your input's `attention_mask` to obtain reliable results.\n"
     ]
    },
    {
     "data": {
      "application/vnd.jupyter.widget-view+json": {
       "model_id": "bb63c113da9642deae626a5182bb8d6f",
       "version_major": 2,
       "version_minor": 0
      },
      "text/plain": [
       "Transcribing:   0%|          | 0/136 [00:00<?, ?it/s]"
      ]
     },
     "metadata": {},
     "output_type": "display_data"
    },
    {
     "data": {
      "application/vnd.jupyter.widget-view+json": {
       "model_id": "49176a9760624848974c6ae7a1cf3952",
       "version_major": 2,
       "version_minor": 0
      },
      "text/plain": [
       "Transcribing:   0%|          | 0/32 [00:00<?, ?it/s]"
      ]
     },
     "metadata": {},
     "output_type": "display_data"
    },
    {
     "data": {
      "application/vnd.jupyter.widget-view+json": {
       "model_id": "80d8dadd9499499fba6a51e5c4818307",
       "version_major": 2,
       "version_minor": 0
      },
      "text/plain": [
       "Transcribing:   0%|          | 0/42 [00:00<?, ?it/s]"
      ]
     },
     "metadata": {},
     "output_type": "display_data"
    },
    {
     "data": {
      "application/vnd.jupyter.widget-view+json": {
       "model_id": "62a21b51bdf1462ca9a9307292ac2cfe",
       "version_major": 2,
       "version_minor": 0
      },
      "text/plain": [
       "Transcribing:   0%|          | 0/32 [00:00<?, ?it/s]"
      ]
     },
     "metadata": {},
     "output_type": "display_data"
    },
    {
     "data": {
      "application/vnd.jupyter.widget-view+json": {
       "model_id": "6e9bbf156a164ac8a61883eb018b1356",
       "version_major": 2,
       "version_minor": 0
      },
      "text/plain": [
       "Transcribing:   0%|          | 0/115 [00:00<?, ?it/s]"
      ]
     },
     "metadata": {},
     "output_type": "display_data"
    },
    {
     "data": {
      "application/vnd.jupyter.widget-view+json": {
       "model_id": "538944253cec4c32bd5441b848ff0b74",
       "version_major": 2,
       "version_minor": 0
      },
      "text/plain": [
       "Transcribing:   0%|          | 0/50 [00:00<?, ?it/s]"
      ]
     },
     "metadata": {},
     "output_type": "display_data"
    },
    {
     "data": {
      "application/vnd.jupyter.widget-view+json": {
       "model_id": "983141ee21234343af614a9c13bd51f3",
       "version_major": 2,
       "version_minor": 0
      },
      "text/plain": [
       "Transcribing:   0%|          | 0/110 [00:00<?, ?it/s]"
      ]
     },
     "metadata": {},
     "output_type": "display_data"
    },
    {
     "data": {
      "application/vnd.jupyter.widget-view+json": {
       "model_id": "54f947544cb245ada6e19c7fbcd5def5",
       "version_major": 2,
       "version_minor": 0
      },
      "text/plain": [
       "Transcribing:   0%|          | 0/45 [00:00<?, ?it/s]"
      ]
     },
     "metadata": {},
     "output_type": "display_data"
    },
    {
     "data": {
      "application/vnd.jupyter.widget-view+json": {
       "model_id": "82fa2ebbb44b4408b5e53dcad81afa80",
       "version_major": 2,
       "version_minor": 0
      },
      "text/plain": [
       "Transcribing:   0%|          | 0/121 [00:00<?, ?it/s]"
      ]
     },
     "metadata": {},
     "output_type": "display_data"
    },
    {
     "data": {
      "application/vnd.jupyter.widget-view+json": {
       "model_id": "5a614de98334493185372514140f6487",
       "version_major": 2,
       "version_minor": 0
      },
      "text/plain": [
       "Transcribing:   0%|          | 0/125 [00:00<?, ?it/s]"
      ]
     },
     "metadata": {},
     "output_type": "display_data"
    },
    {
     "data": {
      "application/vnd.jupyter.widget-view+json": {
       "model_id": "1532fa9a72e346b78788adc58fe90abc",
       "version_major": 2,
       "version_minor": 0
      },
      "text/plain": [
       "Transcribing:   0%|          | 0/41 [00:00<?, ?it/s]"
      ]
     },
     "metadata": {},
     "output_type": "display_data"
    },
    {
     "data": {
      "application/vnd.jupyter.widget-view+json": {
       "model_id": "d4c6d1d0d067425997d377e1352b32d5",
       "version_major": 2,
       "version_minor": 0
      },
      "text/plain": [
       "Transcribing:   0%|          | 0/169 [00:00<?, ?it/s]"
      ]
     },
     "metadata": {},
     "output_type": "display_data"
    }
   ],
   "source": [
    "data_dir = '../data'\n",
    "\n",
    "mp3_list = [f for f in os.listdir(data_dir) if f.endswith('.mp3')]\n",
    "pbar = tqdm(mp3_list, desc=\"Processing MP3 files\")\n",
    "\n",
    "for filename in pbar:\n",
    "    if filename.endswith('.mp3'):\n",
    "        waveform, sample_rate, duration = mp3_2_waveform(\n",
    "            mp3_path = os.path.join(data_dir,filename),\n",
    "            target_sr = 16000 #whisper was trained on 16kHz audio\n",
    "        )\n",
    "        pbar.set_postfix({\"MP3 duration\": f\"{round(duration,4)} sec\"})\n",
    "        \n",
    "        transcript = inference(\n",
    "            model = model,\n",
    "            processor = processor,\n",
    "            waveform = waveform,\n",
    "            sample_rate = sample_rate,\n",
    "            batch_duration = 30 #whisper was trained on 30-second audio segments\n",
    "        )\n",
    "\n",
    "        with open(f\"{os.path.basename(filename)}.txt\", \"w\", encoding=\"utf-8\") as f:\n",
    "            f.write(transcript)"
   ]
  }
 ],
 "metadata": {
  "kernelspec": {
   "display_name": "Python 3 (ipykernel)",
   "language": "python",
   "name": "python3"
  },
  "language_info": {
   "codemirror_mode": {
    "name": "ipython",
    "version": 3
   },
   "file_extension": ".py",
   "mimetype": "text/x-python",
   "name": "python",
   "nbconvert_exporter": "python",
   "pygments_lexer": "ipython3",
   "version": "3.11.9"
  }
 },
 "nbformat": 4,
 "nbformat_minor": 5
}
