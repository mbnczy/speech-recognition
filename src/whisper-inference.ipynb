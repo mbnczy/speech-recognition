{
 "cells": [
  {
   "cell_type": "code",
   "execution_count": null,
   "id": "669391fb-1ff9-49b6-a2e5-abb80dcad906",
   "metadata": {
    "scrolled": true
   },
   "outputs": [],
   "source": [
    "%pip uninstall torch torchaudio -y\n",
    "%pip install torch==2.5.0 torchaudio==2.5.0 --index-url https://download.pytorch.org/whl/cu121\n",
    "%pip install 'accelerate>=0.26.0'\n",
    "%pip install librosa soundfile"
   ]
  },
  {
   "cell_type": "code",
   "execution_count": null,
   "id": "bf8d7196-fe6b-455c-a6d0-98ee792d5822",
   "metadata": {},
   "outputs": [],
   "source": [
    "import os\n",
    "import torch\n",
    "import torchaudio\n",
    "from transformers import AutoProcessor, WhisperForConditionalGeneration\n",
    "from tqdm.notebook import tqdm\n",
    "import librosa\n",
    "import numpy as np"
   ]
  },
  {
   "cell_type": "code",
   "execution_count": null,
   "id": "f98342af-3822-4a5b-a37c-6743c714b3a6",
   "metadata": {},
   "outputs": [],
   "source": [
    "processor = AutoProcessor.from_pretrained(\"openai/whisper-large-v3-turbo\")\n",
    "\n",
    "model = WhisperForConditionalGeneration.from_pretrained(\n",
    "    \"openai/whisper-large-v3-turbo\",\n",
    "    torch_dtype=torch.float16,\n",
    "    device_map=\"auto\",\n",
    "    attn_implementation=\"sdpa\"\n",
    ").to(\"cuda\")"
   ]
  },
  {
   "cell_type": "code",
   "execution_count": null,
   "id": "7adb0674-7668-4b2d-8266-3b2a3b615072",
   "metadata": {},
   "outputs": [],
   "source": [
    "def mp3_2_waveform(mp3_path, target_sr = 16000):\n",
    "    info = torchaudio.info(mp3_path)\n",
    "    \n",
    "    waveform, sample_rate = torchaudio.load(mp3_path, num_frames=info.num_frames)\n",
    "    duration = waveform.shape[1] / sample_rate\n",
    "\n",
    "    if sample_rate != target_sr: #resample to 16k\n",
    "        resampler = torchaudio.transforms.Resample(orig_freq=sample_rate, new_freq=target_sr)\n",
    "        waveform = resampler(waveform)\n",
    "        sample_rate = target_sr\n",
    "\n",
    "    if waveform.shape[0] > 1: #mono\n",
    "        waveform = torch.mean(waveform, dim=0)\n",
    "\n",
    "    return waveform, sample_rate, duration\n",
    "\n",
    "def split_into_batches(waveform, sample_rate, batch_duration=30, split_in_silence=False):\n",
    "    batch_samples = batch_duration * sample_rate\n",
    "    audio_array = waveform.numpy()\n",
    "    total_batches = (len(audio_array) + batch_samples - 1) // batch_samples\n",
    "    \n",
    "    if split_in_silence:\n",
    "        audio_array = audio_array.squeeze()\n",
    "    \n",
    "        non_silent_intervals = librosa.effects.split(audio_array, top_db=30)\n",
    "        \n",
    "        batches = []\n",
    "        current_batch = []\n",
    "        current_size = 0\n",
    "    \n",
    "        for start, end in non_silent_intervals:\n",
    "            segment = audio_array[start:end]\n",
    "            segment_len = end - start\n",
    "    \n",
    "            if current_size + segment_len <= batch_samples:\n",
    "                current_batch.append(segment)\n",
    "                current_size += segment_len\n",
    "            else:\n",
    "                batches.append(np.concatenate(current_batch))\n",
    "                current_batch = [segment]\n",
    "                current_size = segment_len\n",
    "    \n",
    "        if current_batch:\n",
    "            batches.append(np.concatenate(current_batch))\n",
    "        \n",
    "        return batches\n",
    "    return [audio_array[i:i + batch_samples] for i in range(0, len(audio_array), batch_samples)]\n",
    "        \n",
    "def inference(model, processor, waveform, sample_rate, batch_duration=30):   \n",
    "    batches = split_into_batches(\n",
    "        waveform,\n",
    "        sample_rate,\n",
    "        batch_duration,\n",
    "        split_in_silence=True\n",
    "    )\n",
    "    \n",
    "    transcription = []\n",
    "    for batch in tqdm(batches, total=len(batches), desc=\"Transcribing\"):\n",
    "    \n",
    "        #if len(batch) < 1000:\n",
    "        #    continue\n",
    "    \n",
    "        inputs = processor(\n",
    "            batch,\n",
    "            sampling_rate=sample_rate,\n",
    "            return_tensors=\"pt\"\n",
    "        ).input_features.to(\"cuda\", dtype=torch.float16)\n",
    "    \n",
    "        ids = model.generate(inputs, cache_implementation=\"static\")\n",
    "        text = processor.batch_decode(ids, skip_special_tokens=True)[0]\n",
    "        transcription.append(text)\n",
    "    \n",
    "    return \" \".join(transcription)"
   ]
  },
  {
   "cell_type": "code",
   "execution_count": null,
   "id": "f885734d-7de5-47ca-bf64-1c98801aeeea",
   "metadata": {},
   "outputs": [],
   "source": [
    "data_dir = '../data'\n",
    "\n",
    "mp3_list = [f for f in os.listdir(data_dir) if f.endswith('.mp3')]\n",
    "pbar = tqdm(mp3_list, desc=\"Processing MP3 files\")\n",
    "\n",
    "for filename in pbar:\n",
    "    if filename.endswith('.mp3'):\n",
    "        waveform, sample_rate, duration = mp3_2_waveform(\n",
    "            mp3_path = os.path.join(data_dir,filename),\n",
    "            target_sr = 16000 #whisper was trained on 16kHz audio\n",
    "        )\n",
    "        pbar.set_postfix({\"MP3 duration\": f\"{round(duration,4)} sec\"})\n",
    "        \n",
    "        transcript = inference(\n",
    "            model = model,\n",
    "            processor = processor,\n",
    "            waveform = waveform,\n",
    "            sample_rate = sample_rate,\n",
    "            batch_duration = 30 #whisper was trained on 30-second audio segments\n",
    "        )\n",
    "\n",
    "        with open(f\"{os.path.basename(filename)}.txt\", \"w\", encoding=\"utf-8\") as f:\n",
    "            f.write(transcript)"
   ]
  },
  {
   "cell_type": "code",
   "execution_count": null,
   "id": "9ec48bf6-969a-4dc5-9255-a53c43b4a219",
   "metadata": {},
   "outputs": [],
   "source": [
    "waveform, sample_rate, duration = mp3_2_waveform(\n",
    "    mp3_path = '../data/2019-06-21 2020 Beto O’Rourke on Biden, Iran and the puppy primary.mp3',\n",
    ")\n",
    "\n",
    "batches = split_into_batches(waveform, sample_rate, batch_duration=30, split_in_silence=True)"
   ]
  },
  {
   "cell_type": "code",
   "execution_count": null,
   "id": "1d70b425-379e-499d-8671-bd4def3ba4f5",
   "metadata": {},
   "outputs": [],
   "source": [
    "from IPython.display import Audio\n"
   ]
  },
  {
   "cell_type": "code",
   "execution_count": null,
   "id": "5385204a-c57f-4b65-b122-229b3f40cf0c",
   "metadata": {
    "scrolled": true
   },
   "outputs": [],
   "source": [
    "for i, batch in enumerate(batches):\n",
    "    print(f\"▶️ Playing batch {i + 1}\")\n",
    "    display(Audio(batch, rate=sample_rate))"
   ]
  },
  {
   "cell_type": "code",
   "execution_count": null,
   "id": "1816831f-535e-443b-9759-d46da3130f54",
   "metadata": {},
   "outputs": [],
   "source": []
  }
 ],
 "metadata": {
  "kernelspec": {
   "display_name": "Python 3 (ipykernel)",
   "language": "python",
   "name": "python3"
  },
  "language_info": {
   "codemirror_mode": {
    "name": "ipython",
    "version": 3
   },
   "file_extension": ".py",
   "mimetype": "text/x-python",
   "name": "python",
   "nbconvert_exporter": "python",
   "pygments_lexer": "ipython3",
   "version": "3.11.9"
  }
 },
 "nbformat": 4,
 "nbformat_minor": 5
}
